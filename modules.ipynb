{
 "cells": [
  {
   "cell_type": "code",
   "execution_count": 1,
   "id": "0d11bfdb",
   "metadata": {},
   "outputs": [],
   "source": [
    "# MODULES\n",
    "# ---------------------\n",
    "# group of functions / classes\n",
    "# eg: math,string\n",
    "# .py files are treated as modules"
   ]
  },
  {
   "cell_type": "code",
   "execution_count": 4,
   "id": "101c6162",
   "metadata": {},
   "outputs": [],
   "source": [
    "import mymodule"
   ]
  },
  {
   "cell_type": "code",
   "execution_count": 5,
   "id": "10d37b27",
   "metadata": {},
   "outputs": [
    {
     "data": {
      "text/plain": [
       "{'artist': 'nighat', 'album': 'hello'}"
      ]
     },
     "execution_count": 5,
     "metadata": {},
     "output_type": "execute_result"
    }
   ],
   "source": [
    "mymodule.make_album('nighat','hello')"
   ]
  },
  {
   "cell_type": "code",
   "execution_count": 46,
   "id": "86acff95",
   "metadata": {},
   "outputs": [],
   "source": [
    "from mymodule import make_album"
   ]
  },
  {
   "cell_type": "code",
   "execution_count": 47,
   "id": "576e3035",
   "metadata": {},
   "outputs": [
    {
     "data": {
      "text/plain": [
       "{'artist': 'nighat', 'album': 'raza', 'tracks': 23}"
      ]
     },
     "execution_count": 47,
     "metadata": {},
     "output_type": "execute_result"
    }
   ],
   "source": [
    "make_album('nighat','raza',23)"
   ]
  },
  {
   "cell_type": "code",
   "execution_count": 48,
   "id": "246dce04",
   "metadata": {},
   "outputs": [],
   "source": [
    "import mymodule as mm"
   ]
  },
  {
   "cell_type": "code",
   "execution_count": 49,
   "id": "2e853993",
   "metadata": {},
   "outputs": [
    {
     "name": "stdout",
     "output_type": "stream",
     "text": [
      "[2, 3, 4]\n",
      "[2, 3, 4]\n"
     ]
    }
   ],
   "source": [
    "mm.promoteStudent([2,3,4])"
   ]
  },
  {
   "cell_type": "code",
   "execution_count": null,
   "id": "ae0c4425",
   "metadata": {},
   "outputs": [],
   "source": []
  },
  {
   "cell_type": "code",
   "execution_count": 37,
   "id": "2bda8365",
   "metadata": {},
   "outputs": [],
   "source": [
    "import nighatmathmodule"
   ]
  },
  {
   "cell_type": "code",
   "execution_count": 40,
   "id": "4aa9af60",
   "metadata": {},
   "outputs": [],
   "source": [
    "%run nighatmathmodule"
   ]
  },
  {
   "cell_type": "code",
   "execution_count": 38,
   "id": "06d82cb2",
   "metadata": {},
   "outputs": [
    {
     "name": "stdout",
     "output_type": "stream",
     "text": [
      "4 * 1 = 4\n",
      "4 * 2 = 8\n",
      "4 * 3 = 12\n",
      "4 * 4 = 16\n",
      "4 * 5 = 20\n",
      "4 * 6 = 24\n",
      "4 * 7 = 28\n",
      "4 * 8 = 32\n",
      "4 * 9 = 36\n",
      "4 * 10 = 40\n"
     ]
    }
   ],
   "source": [
    "nighatmathmodule.table(4,10)"
   ]
  },
  {
   "cell_type": "code",
   "execution_count": 39,
   "id": "0af6ce33",
   "metadata": {},
   "outputs": [
    {
     "name": "stdout",
     "output_type": "stream",
     "text": [
      "numerator is:  2\n",
      "denominator is:  5\n"
     ]
    },
    {
     "data": {
      "text/plain": [
       "('answer is:', 0.4, 'and remainder is:', 2)"
      ]
     },
     "execution_count": 39,
     "metadata": {},
     "output_type": "execute_result"
    }
   ],
   "source": [
    "nighatmathmodule.divide(2,5)"
   ]
  },
  {
   "cell_type": "code",
   "execution_count": 43,
   "id": "c6ff54c3",
   "metadata": {},
   "outputs": [],
   "source": [
    "from nighatmathmodule import power"
   ]
  },
  {
   "cell_type": "code",
   "execution_count": 45,
   "id": "215c953c",
   "metadata": {},
   "outputs": [
    {
     "data": {
      "text/plain": [
       "64"
      ]
     },
     "execution_count": 45,
     "metadata": {},
     "output_type": "execute_result"
    }
   ],
   "source": [
    "power(4,3)"
   ]
  },
  {
   "cell_type": "code",
   "execution_count": null,
   "id": "b20c9337",
   "metadata": {},
   "outputs": [],
   "source": []
  }
 ],
 "metadata": {
  "kernelspec": {
   "display_name": "Python 3",
   "language": "python",
   "name": "python3"
  },
  "language_info": {
   "codemirror_mode": {
    "name": "ipython",
    "version": 3
   },
   "file_extension": ".py",
   "mimetype": "text/x-python",
   "name": "python",
   "nbconvert_exporter": "python",
   "pygments_lexer": "ipython3",
   "version": "3.8.8"
  }
 },
 "nbformat": 4,
 "nbformat_minor": 5
}
